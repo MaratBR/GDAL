{
 "cells": [
  {
   "cell_type": "code",
   "execution_count": 40,
   "metadata": {},
   "outputs": [
    {
     "name": "stdout",
     "output_type": "stream",
     "text": [
      "Requirement already satisfied: gdal in /usr/lib/python3/dist-packages (3.0.4)\r\n",
      "Requirement already satisfied: h5py in /home/marat/.local/lib/python3.8/site-packages (2.10.0)\r\n",
      "Requirement already satisfied: loguru in /usr/local/lib/python3.8/dist-packages (0.5.3)\r\n",
      "Requirement already satisfied: six in /usr/lib/python3/dist-packages (from h5py) (1.14.0)\r\n",
      "Requirement already satisfied: numpy>=1.7 in /usr/lib/python3/dist-packages (from h5py) (1.17.4)\r\n"
     ]
    }
   ],
   "source": [
    "import os\n",
    "import gdal\n",
    "import gdal_viirs as viirs\n",
    "import numpy as np\n",
    "import h5py\n",
    "\n",
    "!pip3 install gdal h5py loguru"
   ]
  },
  {
   "cell_type": "code",
   "execution_count": 41,
   "metadata": {},
   "outputs": [
    {
     "name": "stderr",
     "output_type": "stream",
     "text": [
      "2020-10-20 21:38:37.054 | INFO     | gdal_viirs:hlf_process_geoloc_file:454 - ОБРАБОТКА GIMGO_npp_d20201013_t0557093_e0609574_b00001_c20201013052242733000_ipop_dev.h5\n",
      "2020-10-20 21:38:37.068 | DEBUG    | gdal_viirs:gdal_open:404 - mode=0/GA_ReadOnly file=/home/marat/Documents/npp/GIMGO_npp_d20201013_t0557093_e0609574_b00001_c20201013052242733000_ipop_dev.h5 \n",
      "2020-10-20 21:38:38.605 | DEBUG    | gdal_viirs:gdal_open:404 - mode=0/GA_ReadOnly file=HDF5:\"/home/marat/Documents/npp/GIMGO_npp_d20201013_t0557093_e0609574_b00001_c20201013052242733000_ipop_dev.h5\"://All_Data/VIIRS-IMG-GEO_All/Latitude \n",
      "2020-10-20 21:38:41.639 | DEBUG    | gdal_viirs:gdal_open:404 - mode=0/GA_ReadOnly file=HDF5:\"/home/marat/Documents/npp/GIMGO_npp_d20201013_t0557093_e0609574_b00001_c20201013052242733000_ipop_dev.h5\"://All_Data/VIIRS-IMG-GEO_All/Longitude \n",
      "2020-10-20 21:38:42.744 | DEBUG    | gdal_viirs:calculate_latlon_pos:368 - lat.shape=(13824, 6400) lon_0=96.10484313964844 scale=3000 point=Point(x=6912, y=3200) geopoint=GeoPoint(lat=58.32991, lon=96.10484)\n",
      "2020-10-20 21:39:40.779 | INFO     | gdal_viirs:hlf_process_geoloc_file:461 - ОБРАБОТКА ЗАВЕРШЕНА GIMGO_npp_d20201013_t0557093_e0609574_b00001_c20201013052242733000_ipop_dev.h5\n",
      "2020-10-20 21:40:14.073 | DEBUG    | gdal_viirs:gdal_open:404 - mode=0/GA_ReadOnly file=/home/marat/Documents/npp/SVI01_npp_d20201013_t0557093_e0609574_b00001_c20201013052242733000_ipop_dev.h5 \n",
      "2020-10-20 21:40:16.660 | DEBUG    | gdal_viirs:gdal_open:404 - mode=0/GA_ReadOnly file=HDF5:\"/home/marat/Documents/npp/SVI01_npp_d20201013_t0557093_e0609574_b00001_c20201013052242733000_ipop_dev.h5\"://All_Data/VIIRS-I1-SDR_All/Reflectance \n"
     ]
    },
    {
     "ename": "KeyboardInterrupt",
     "evalue": "",
     "output_type": "error",
     "traceback": [
      "\u001B[0;31m---------------------------------------------------------------------------\u001B[0m",
      "\u001B[0;31mKeyboardInterrupt\u001B[0m                         Traceback (most recent call last)",
      "\u001B[0;32m<ipython-input-41-16769352caff>\u001B[0m in \u001B[0;36m<module>\u001B[0;34m\u001B[0m\n\u001B[1;32m      2\u001B[0m \u001B[0mfiles\u001B[0m \u001B[0;34m=\u001B[0m \u001B[0mviirs\u001B[0m\u001B[0;34m.\u001B[0m\u001B[0mfind_viirs_filesets\u001B[0m\u001B[0;34m(\u001B[0m\u001B[0;34m'/home/marat/Documents/npp'\u001B[0m\u001B[0;34m,\u001B[0m \u001B[0;34m[\u001B[0m\u001B[0mviirs\u001B[0m\u001B[0;34m.\u001B[0m\u001B[0mGIMGO\u001B[0m\u001B[0;34m]\u001B[0m\u001B[0;34m)\u001B[0m\u001B[0;34m\u001B[0m\u001B[0;34m\u001B[0m\u001B[0m\n\u001B[1;32m      3\u001B[0m \u001B[0mgeoloc\u001B[0m\u001B[0;34m,\u001B[0m \u001B[0mband_files\u001B[0m \u001B[0;34m=\u001B[0m \u001B[0mlist\u001B[0m\u001B[0;34m(\u001B[0m\u001B[0mfiles\u001B[0m\u001B[0;34m.\u001B[0m\u001B[0mvalues\u001B[0m\u001B[0;34m(\u001B[0m\u001B[0;34m)\u001B[0m\u001B[0;34m)\u001B[0m\u001B[0;34m[\u001B[0m\u001B[0;36m0\u001B[0m\u001B[0;34m]\u001B[0m\u001B[0;34m\u001B[0m\u001B[0;34m\u001B[0m\u001B[0m\n\u001B[0;32m----> 4\u001B[0;31m \u001B[0mdata\u001B[0m \u001B[0;34m=\u001B[0m \u001B[0mviirs\u001B[0m\u001B[0;34m.\u001B[0m\u001B[0mhlf_process_fileset\u001B[0m\u001B[0;34m(\u001B[0m\u001B[0mgeoloc\u001B[0m\u001B[0;34m,\u001B[0m \u001B[0mband_files\u001B[0m\u001B[0;34m)\u001B[0m\u001B[0;34m\u001B[0m\u001B[0;34m\u001B[0m\u001B[0m\n\u001B[0m\u001B[1;32m      5\u001B[0m \u001B[0;34m\u001B[0m\u001B[0m\n",
      "\u001B[0;32m/usr/local/lib/python3.8/dist-packages/loguru/_logger.py\u001B[0m in \u001B[0;36mcatch_wrapper\u001B[0;34m(*args, **kwargs)\u001B[0m\n\u001B[1;32m   1218\u001B[0m                     \u001B[0;32mdef\u001B[0m \u001B[0mcatch_wrapper\u001B[0m\u001B[0;34m(\u001B[0m\u001B[0;34m*\u001B[0m\u001B[0margs\u001B[0m\u001B[0;34m,\u001B[0m \u001B[0;34m**\u001B[0m\u001B[0mkwargs\u001B[0m\u001B[0;34m)\u001B[0m\u001B[0;34m:\u001B[0m\u001B[0;34m\u001B[0m\u001B[0;34m\u001B[0m\u001B[0m\n\u001B[1;32m   1219\u001B[0m                         \u001B[0;32mwith\u001B[0m \u001B[0mcatcher\u001B[0m\u001B[0;34m:\u001B[0m\u001B[0;34m\u001B[0m\u001B[0;34m\u001B[0m\u001B[0m\n\u001B[0;32m-> 1220\u001B[0;31m                             \u001B[0;32mreturn\u001B[0m \u001B[0mfunction\u001B[0m\u001B[0;34m(\u001B[0m\u001B[0;34m*\u001B[0m\u001B[0margs\u001B[0m\u001B[0;34m,\u001B[0m \u001B[0;34m**\u001B[0m\u001B[0mkwargs\u001B[0m\u001B[0;34m)\u001B[0m\u001B[0;34m\u001B[0m\u001B[0;34m\u001B[0m\u001B[0m\n\u001B[0m\u001B[1;32m   1221\u001B[0m                         \u001B[0;32mreturn\u001B[0m \u001B[0mdefault\u001B[0m\u001B[0;34m\u001B[0m\u001B[0;34m\u001B[0m\u001B[0m\n\u001B[1;32m   1222\u001B[0m \u001B[0;34m\u001B[0m\u001B[0m\n",
      "\u001B[0;32m~/PycharmProjects/GDAL/gdal_viirs.py\u001B[0m in \u001B[0;36mhlf_process_fileset\u001B[0;34m(geoloc, band_files, scale, band_types)\u001B[0m\n\u001B[1;32m    526\u001B[0m \u001B[0;34m\u001B[0m\u001B[0m\n\u001B[1;32m    527\u001B[0m     \u001B[0;32mfor\u001B[0m \u001B[0mfile\u001B[0m \u001B[0;32min\u001B[0m \u001B[0mband_files\u001B[0m\u001B[0;34m:\u001B[0m\u001B[0;34m\u001B[0m\u001B[0;34m\u001B[0m\u001B[0m\n\u001B[0;32m--> 528\u001B[0;31m         \u001B[0mresult\u001B[0m \u001B[0;34m=\u001B[0m \u001B[0mhlf_process_band_file\u001B[0m\u001B[0;34m(\u001B[0m\u001B[0mfile\u001B[0m\u001B[0;34m,\u001B[0m \u001B[0mgeoloc_file\u001B[0m\u001B[0;34m)\u001B[0m\u001B[0;34m\u001B[0m\u001B[0;34m\u001B[0m\u001B[0m\n\u001B[0m\u001B[1;32m    529\u001B[0m         \u001B[0;32mif\u001B[0m \u001B[0mresult\u001B[0m \u001B[0;32mis\u001B[0m \u001B[0;32mNone\u001B[0m\u001B[0;34m:\u001B[0m\u001B[0;34m\u001B[0m\u001B[0;34m\u001B[0m\u001B[0m\n\u001B[1;32m    530\u001B[0m             \u001B[0mresults\u001B[0m\u001B[0;34m.\u001B[0m\u001B[0mappend\u001B[0m\u001B[0;34m(\u001B[0m\u001B[0;32mNone\u001B[0m\u001B[0;34m)\u001B[0m\u001B[0;34m\u001B[0m\u001B[0;34m\u001B[0m\u001B[0m\n",
      "\u001B[0;32m/usr/local/lib/python3.8/dist-packages/loguru/_logger.py\u001B[0m in \u001B[0;36mcatch_wrapper\u001B[0;34m(*args, **kwargs)\u001B[0m\n\u001B[1;32m   1218\u001B[0m                     \u001B[0;32mdef\u001B[0m \u001B[0mcatch_wrapper\u001B[0m\u001B[0;34m(\u001B[0m\u001B[0;34m*\u001B[0m\u001B[0margs\u001B[0m\u001B[0;34m,\u001B[0m \u001B[0;34m**\u001B[0m\u001B[0mkwargs\u001B[0m\u001B[0;34m)\u001B[0m\u001B[0;34m:\u001B[0m\u001B[0;34m\u001B[0m\u001B[0;34m\u001B[0m\u001B[0m\n\u001B[1;32m   1219\u001B[0m                         \u001B[0;32mwith\u001B[0m \u001B[0mcatcher\u001B[0m\u001B[0;34m:\u001B[0m\u001B[0;34m\u001B[0m\u001B[0;34m\u001B[0m\u001B[0m\n\u001B[0;32m-> 1220\u001B[0;31m                             \u001B[0;32mreturn\u001B[0m \u001B[0mfunction\u001B[0m\u001B[0;34m(\u001B[0m\u001B[0;34m*\u001B[0m\u001B[0margs\u001B[0m\u001B[0;34m,\u001B[0m \u001B[0;34m**\u001B[0m\u001B[0mkwargs\u001B[0m\u001B[0;34m)\u001B[0m\u001B[0;34m\u001B[0m\u001B[0;34m\u001B[0m\u001B[0m\n\u001B[0m\u001B[1;32m   1221\u001B[0m                         \u001B[0;32mreturn\u001B[0m \u001B[0mdefault\u001B[0m\u001B[0;34m\u001B[0m\u001B[0;34m\u001B[0m\u001B[0m\n\u001B[1;32m   1222\u001B[0m \u001B[0;34m\u001B[0m\u001B[0m\n",
      "\u001B[0;32m~/PycharmProjects/GDAL/gdal_viirs.py\u001B[0m in \u001B[0;36mhlf_process_band_file\u001B[0;34m(geofile, geoloc_file)\u001B[0m\n\u001B[1;32m    478\u001B[0m         \u001B[0miband_dataset\u001B[0m \u001B[0;34m=\u001B[0m \u001B[0;34m'Reflectance'\u001B[0m \u001B[0;32mif\u001B[0m \u001B[0mgeofile\u001B[0m\u001B[0;34m.\u001B[0m\u001B[0mfile_type\u001B[0m \u001B[0;32min\u001B[0m \u001B[0mGeofileInfo\u001B[0m\u001B[0;34m.\u001B[0m\u001B[0mI_BAND_SDR__REFLECTANCE\u001B[0m \u001B[0;32melse\u001B[0m \u001B[0;34m'BrightnessTemperature'\u001B[0m\u001B[0;34m\u001B[0m\u001B[0;34m\u001B[0m\u001B[0m\n\u001B[1;32m    479\u001B[0m         \u001B[0msub\u001B[0m \u001B[0;34m=\u001B[0m \u001B[0mgdal_read_subdataset\u001B[0m\u001B[0;34m(\u001B[0m\u001B[0mf\u001B[0m\u001B[0;34m,\u001B[0m \u001B[0miband_dataset\u001B[0m\u001B[0;34m)\u001B[0m\u001B[0;34m\u001B[0m\u001B[0;34m\u001B[0m\u001B[0m\n\u001B[0;32m--> 480\u001B[0;31m         \u001B[0marr\u001B[0m \u001B[0;34m=\u001B[0m \u001B[0msub\u001B[0m\u001B[0;34m.\u001B[0m\u001B[0mReadAsArray\u001B[0m\u001B[0;34m(\u001B[0m\u001B[0;34m)\u001B[0m\u001B[0;34m\u001B[0m\u001B[0;34m\u001B[0m\u001B[0m\n\u001B[0m\u001B[1;32m    481\u001B[0m         \u001B[0marr\u001B[0m\u001B[0;34m,\u001B[0m \u001B[0mdata_mask\u001B[0m\u001B[0;34m,\u001B[0m \u001B[0moffset\u001B[0m \u001B[0;34m=\u001B[0m \u001B[0mtrim_data\u001B[0m\u001B[0;34m(\u001B[0m\u001B[0marr\u001B[0m\u001B[0;34m,\u001B[0m \u001B[0mret_mask\u001B[0m\u001B[0;34m=\u001B[0m\u001B[0;32mTrue\u001B[0m\u001B[0;34m,\u001B[0m \u001B[0mret_offset\u001B[0m\u001B[0;34m=\u001B[0m\u001B[0;32mTrue\u001B[0m\u001B[0;34m)\u001B[0m\u001B[0;34m\u001B[0m\u001B[0;34m\u001B[0m\u001B[0m\n\u001B[1;32m    482\u001B[0m         \u001B[0;31m# arr = get_pass_data(arr) # ???\u001B[0m\u001B[0;34m\u001B[0m\u001B[0;34m\u001B[0m\u001B[0;34m\u001B[0m\u001B[0m\n",
      "\u001B[0;32m/usr/lib/python3/dist-packages/osgeo/gdal.py\u001B[0m in \u001B[0;36mReadAsArray\u001B[0;34m(self, xoff, yoff, xsize, ysize, buf_obj, buf_xsize, buf_ysize, buf_type, resample_alg, callback, callback_data, interleave)\u001B[0m\n\u001B[1;32m   2071\u001B[0m \u001B[0;34m\u001B[0m\u001B[0m\n\u001B[1;32m   2072\u001B[0m         \u001B[0;32mfrom\u001B[0m \u001B[0mosgeo\u001B[0m \u001B[0;32mimport\u001B[0m \u001B[0mgdalnumeric\u001B[0m\u001B[0;34m\u001B[0m\u001B[0;34m\u001B[0m\u001B[0m\n\u001B[0;32m-> 2073\u001B[0;31m         return gdalnumeric.DatasetReadAsArray(self, xoff, yoff, xsize, ysize, buf_obj,\n\u001B[0m\u001B[1;32m   2074\u001B[0m                                               \u001B[0mbuf_xsize\u001B[0m\u001B[0;34m,\u001B[0m \u001B[0mbuf_ysize\u001B[0m\u001B[0;34m,\u001B[0m \u001B[0mbuf_type\u001B[0m\u001B[0;34m,\u001B[0m\u001B[0;34m\u001B[0m\u001B[0;34m\u001B[0m\u001B[0m\n\u001B[1;32m   2075\u001B[0m                                               \u001B[0mresample_alg\u001B[0m\u001B[0;34m=\u001B[0m\u001B[0mresample_alg\u001B[0m\u001B[0;34m,\u001B[0m\u001B[0;34m\u001B[0m\u001B[0;34m\u001B[0m\u001B[0m\n",
      "\u001B[0;32m/usr/lib/python3/dist-packages/osgeo/gdal_array.py\u001B[0m in \u001B[0;36mDatasetReadAsArray\u001B[0;34m(ds, xoff, yoff, win_xsize, win_ysize, buf_obj, buf_xsize, buf_ysize, buf_type, resample_alg, callback, callback_data, interleave)\u001B[0m\n\u001B[1;32m    244\u001B[0m \u001B[0;34m\u001B[0m\u001B[0m\n\u001B[1;32m    245\u001B[0m     \u001B[0;32mif\u001B[0m \u001B[0mds\u001B[0m\u001B[0;34m.\u001B[0m\u001B[0mRasterCount\u001B[0m \u001B[0;34m==\u001B[0m \u001B[0;36m1\u001B[0m\u001B[0;34m:\u001B[0m\u001B[0;34m\u001B[0m\u001B[0;34m\u001B[0m\u001B[0m\n\u001B[0;32m--> 246\u001B[0;31m         return BandReadAsArray(ds.GetRasterBand(1), xoff, yoff, win_xsize, win_ysize,\n\u001B[0m\u001B[1;32m    247\u001B[0m                                \u001B[0mbuf_xsize\u001B[0m\u001B[0;34m=\u001B[0m\u001B[0mbuf_xsize\u001B[0m\u001B[0;34m,\u001B[0m \u001B[0mbuf_ysize\u001B[0m\u001B[0;34m=\u001B[0m\u001B[0mbuf_ysize\u001B[0m\u001B[0;34m,\u001B[0m \u001B[0mbuf_type\u001B[0m\u001B[0;34m=\u001B[0m\u001B[0mbuf_type\u001B[0m\u001B[0;34m,\u001B[0m\u001B[0;34m\u001B[0m\u001B[0;34m\u001B[0m\u001B[0m\n\u001B[1;32m    248\u001B[0m                                \u001B[0mbuf_obj\u001B[0m\u001B[0;34m=\u001B[0m\u001B[0mbuf_obj\u001B[0m\u001B[0;34m,\u001B[0m\u001B[0;34m\u001B[0m\u001B[0;34m\u001B[0m\u001B[0m\n",
      "\u001B[0;32m/usr/lib/python3/dist-packages/osgeo/gdal_array.py\u001B[0m in \u001B[0;36mBandReadAsArray\u001B[0;34m(band, xoff, yoff, win_xsize, win_ysize, buf_xsize, buf_ysize, buf_type, buf_obj, resample_alg, callback, callback_data)\u001B[0m\n\u001B[1;32m    351\u001B[0m         \u001B[0mbuf_type\u001B[0m \u001B[0;34m=\u001B[0m \u001B[0mdatatype\u001B[0m\u001B[0;34m\u001B[0m\u001B[0;34m\u001B[0m\u001B[0m\n\u001B[1;32m    352\u001B[0m \u001B[0;34m\u001B[0m\u001B[0m\n\u001B[0;32m--> 353\u001B[0;31m     if BandRasterIONumPy(band, 0, xoff, yoff, win_xsize, win_ysize,\n\u001B[0m\u001B[1;32m    354\u001B[0m                          buf_obj, buf_type, resample_alg, callback, callback_data) != 0:\n\u001B[1;32m    355\u001B[0m         \u001B[0m_RaiseException\u001B[0m\u001B[0;34m(\u001B[0m\u001B[0;34m)\u001B[0m\u001B[0;34m\u001B[0m\u001B[0;34m\u001B[0m\u001B[0m\n",
      "\u001B[0;32m/usr/lib/python3/dist-packages/osgeo/gdal_array.py\u001B[0m in \u001B[0;36mBandRasterIONumPy\u001B[0;34m(band, bWrite, xoff, yoff, xsize, ysize, psArray, buf_type, resample_alg, callback, callback_data)\u001B[0m\n\u001B[1;32m    105\u001B[0m \u001B[0;32mdef\u001B[0m \u001B[0mBandRasterIONumPy\u001B[0m\u001B[0;34m(\u001B[0m\u001B[0mband\u001B[0m\u001B[0;34m,\u001B[0m \u001B[0mbWrite\u001B[0m\u001B[0;34m,\u001B[0m \u001B[0mxoff\u001B[0m\u001B[0;34m,\u001B[0m \u001B[0myoff\u001B[0m\u001B[0;34m,\u001B[0m \u001B[0mxsize\u001B[0m\u001B[0;34m,\u001B[0m \u001B[0mysize\u001B[0m\u001B[0;34m,\u001B[0m \u001B[0mpsArray\u001B[0m\u001B[0;34m,\u001B[0m \u001B[0mbuf_type\u001B[0m\u001B[0;34m,\u001B[0m \u001B[0mresample_alg\u001B[0m\u001B[0;34m,\u001B[0m \u001B[0mcallback\u001B[0m\u001B[0;34m=\u001B[0m\u001B[0;36m0\u001B[0m\u001B[0;34m,\u001B[0m \u001B[0mcallback_data\u001B[0m\u001B[0;34m=\u001B[0m\u001B[0;32mNone\u001B[0m\u001B[0;34m)\u001B[0m\u001B[0;34m:\u001B[0m\u001B[0;34m\u001B[0m\u001B[0;34m\u001B[0m\u001B[0m\n\u001B[1;32m    106\u001B[0m     \u001B[0;34mr\"\"\"BandRasterIONumPy(Band band, int bWrite, double xoff, double yoff, double xsize, double ysize, PyArrayObject * psArray, int buf_type, GDALRIOResampleAlg resample_alg, GDALProgressFunc callback=0, void * callback_data=None) -> CPLErr\"\"\"\u001B[0m\u001B[0;34m\u001B[0m\u001B[0;34m\u001B[0m\u001B[0m\n\u001B[0;32m--> 107\u001B[0;31m     \u001B[0;32mreturn\u001B[0m \u001B[0m_gdal_array\u001B[0m\u001B[0;34m.\u001B[0m\u001B[0mBandRasterIONumPy\u001B[0m\u001B[0;34m(\u001B[0m\u001B[0mband\u001B[0m\u001B[0;34m,\u001B[0m \u001B[0mbWrite\u001B[0m\u001B[0;34m,\u001B[0m \u001B[0mxoff\u001B[0m\u001B[0;34m,\u001B[0m \u001B[0myoff\u001B[0m\u001B[0;34m,\u001B[0m \u001B[0mxsize\u001B[0m\u001B[0;34m,\u001B[0m \u001B[0mysize\u001B[0m\u001B[0;34m,\u001B[0m \u001B[0mpsArray\u001B[0m\u001B[0;34m,\u001B[0m \u001B[0mbuf_type\u001B[0m\u001B[0;34m,\u001B[0m \u001B[0mresample_alg\u001B[0m\u001B[0;34m,\u001B[0m \u001B[0mcallback\u001B[0m\u001B[0;34m,\u001B[0m \u001B[0mcallback_data\u001B[0m\u001B[0;34m)\u001B[0m\u001B[0;34m\u001B[0m\u001B[0;34m\u001B[0m\u001B[0m\n\u001B[0m\u001B[1;32m    108\u001B[0m \u001B[0;34m\u001B[0m\u001B[0m\n\u001B[1;32m    109\u001B[0m \u001B[0;32mdef\u001B[0m \u001B[0mDatasetIONumPy\u001B[0m\u001B[0;34m(\u001B[0m\u001B[0mds\u001B[0m\u001B[0;34m,\u001B[0m \u001B[0mbWrite\u001B[0m\u001B[0;34m,\u001B[0m \u001B[0mxoff\u001B[0m\u001B[0;34m,\u001B[0m \u001B[0myoff\u001B[0m\u001B[0;34m,\u001B[0m \u001B[0mxsize\u001B[0m\u001B[0;34m,\u001B[0m \u001B[0mysize\u001B[0m\u001B[0;34m,\u001B[0m \u001B[0mpsArray\u001B[0m\u001B[0;34m,\u001B[0m \u001B[0mbuf_type\u001B[0m\u001B[0;34m,\u001B[0m \u001B[0mresample_alg\u001B[0m\u001B[0;34m,\u001B[0m \u001B[0mcallback\u001B[0m\u001B[0;34m=\u001B[0m\u001B[0;36m0\u001B[0m\u001B[0;34m,\u001B[0m \u001B[0mcallback_data\u001B[0m\u001B[0;34m=\u001B[0m\u001B[0;32mNone\u001B[0m\u001B[0;34m,\u001B[0m \u001B[0mbinterleave\u001B[0m\u001B[0;34m=\u001B[0m\u001B[0;32mTrue\u001B[0m\u001B[0;34m)\u001B[0m\u001B[0;34m:\u001B[0m\u001B[0;34m\u001B[0m\u001B[0;34m\u001B[0m\u001B[0m\n",
      "\u001B[0;31mKeyboardInterrupt\u001B[0m: "
     ]
    }
   ],
   "source": [
    "gdal.UseExceptions()\n",
    "\n",
    "# Ищем только GIMGO в указанной папке\n",
    "files = viirs.find_viirs_filesets('/home/marat/Documents/npp', [viirs.GIMGO])\n",
    "geoloc, band_files = list(files.values())[0]\n",
    "data = viirs.hlf_process_fileset(geoloc, band_files)"
   ]
  },
  {
   "cell_type": "code",
   "execution_count": null,
   "metadata": {},
   "outputs": [],
   "source": [
    "geoloc, bands = data"
   ]
  },
  {
   "cell_type": "code",
   "execution_count": null,
   "metadata": {},
   "outputs": [],
   "source": [
    "data = [arr for (arr, info, offset) in bands]"
   ]
  },
  {
   "cell_type": "code",
   "execution_count": null,
   "metadata": {
    "pycharm": {
     "name": "#%%\n"
    }
   },
   "outputs": [],
   "source": [
    "viirs.save_as_tiff('/tmp/test.tiff', data)\n"
   ]
  }
 ],
 "metadata": {
  "kernelspec": {
   "display_name": "Python 3",
   "language": "python",
   "name": "python3"
  },
  "language_info": {
   "codemirror_mode": {
    "name": "ipython",
    "version": 3
   },
   "file_extension": ".py",
   "mimetype": "text/x-python",
   "name": "python",
   "nbconvert_exporter": "python",
   "pygments_lexer": "ipython3",
   "version": "3.8.5"
  }
 },
 "nbformat": 4,
 "nbformat_minor": 4
}