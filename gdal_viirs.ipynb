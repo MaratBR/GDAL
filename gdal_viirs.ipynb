{
 "cells": [
  {
   "cell_type": "code",
   "execution_count": 44,
   "metadata": {},
   "outputs": [
    {
     "name": "stdout",
     "output_type": "stream",
     "text": [
      "Requirement already satisfied: gdal in /usr/lib/python3/dist-packages (3.0.4)\n",
      "Requirement already satisfied: h5py in /home/marat/.local/lib/python3.8/site-packages (2.10.0)\n",
      "Requirement already satisfied: loguru in /usr/local/lib/python3.8/dist-packages (0.5.3)\n",
      "Requirement already satisfied: six in /usr/lib/python3/dist-packages (from h5py) (1.14.0)\n",
      "Requirement already satisfied: numpy>=1.7 in /usr/lib/python3/dist-packages (from h5py) (1.17.4)\n"
     ]
    }
   ],
   "source": [
    "import os\n",
    "import gdal\n",
    "import gdal_viirs as viirs\n",
    "import numpy as np\n",
    "import h5py\n",
    "\n",
    "!pip3 install gdal h5py loguru"
   ]
  },
  {
   "cell_type": "code",
   "execution_count": 2,
   "metadata": {},
   "outputs": [
    {
     "name": "stderr",
     "output_type": "stream",
     "text": [
      "2020-10-20 16:34:51.744 | INFO     | gdal_viirs:hlf_process_geoloc_file:406 - ОБРАБОТКА GIMGO_npp_d20201013_t0557093_e0609574_b00001_c20201013052242733000_ipop_dev.h5\n",
      "2020-10-20 16:34:51.749 | DEBUG    | gdal_viirs:gdal_open:374 - mode=0/GA_ReadOnly file=/home/marat/Documents/npp/GIMGO_npp_d20201013_t0557093_e0609574_b00001_c20201013052242733000_ipop_dev.h5 \n",
      "2020-10-20 16:34:52.234 | DEBUG    | gdal_viirs:gdal_open:374 - mode=0/GA_ReadOnly file=HDF5:\"/home/marat/Documents/npp/GIMGO_npp_d20201013_t0557093_e0609574_b00001_c20201013052242733000_ipop_dev.h5\"://All_Data/VIIRS-IMG-GEO_All/Latitude \n",
      "2020-10-20 16:34:52.937 | DEBUG    | gdal_viirs:gdal_open:374 - mode=0/GA_ReadOnly file=HDF5:\"/home/marat/Documents/npp/GIMGO_npp_d20201013_t0557093_e0609574_b00001_c20201013052242733000_ipop_dev.h5\"://All_Data/VIIRS-IMG-GEO_All/Longitude \n",
      "2020-10-20 16:34:53.385 | DEBUG    | gdal_viirs:calculate_latlon_pos:346 - lat.shape=(13824, 6400) lon_0=96.10484313964844 scale=3000 point=Point(x=6912, y=3200) geopoint=GeoPoint(lat=58.32991, lon=96.10484)\n",
      "2020-10-20 16:35:06.966 | INFO     | gdal_viirs:hlf_process_geoloc_file:413 - ОБРАБОТКА ЗАВЕРШЕНАGIMGO_npp_d20201013_t0557093_e0609574_b00001_c20201013052242733000_ipop_dev.h5\n",
      "2020-10-20 16:35:06.977 | DEBUG    | gdal_viirs:gdal_open:374 - mode=0/GA_ReadOnly file=/home/marat/Documents/npp/SVI01_npp_d20201013_t0557093_e0609574_b00001_c20201013052242733000_ipop_dev.h5 \n",
      "2020-10-20 16:35:06.981 | DEBUG    | gdal_viirs:gdal_open:374 - mode=0/GA_ReadOnly file=HDF5:\"/home/marat/Documents/npp/SVI01_npp_d20201013_t0557093_e0609574_b00001_c20201013052242733000_ipop_dev.h5\"://All_Data/VIIRS-I1-SDR_All/Reflectance \n",
      "2020-10-20 16:35:09.689 | DEBUG    | gdal_viirs:gdal_open:374 - mode=0/GA_ReadOnly file=/home/marat/Documents/npp/SVI03_npp_d20201013_t0557093_e0609574_b00001_c20201013052242733000_ipop_dev.h5 \n",
      "2020-10-20 16:35:09.695 | DEBUG    | gdal_viirs:gdal_open:374 - mode=0/GA_ReadOnly file=HDF5:\"/home/marat/Documents/npp/SVI03_npp_d20201013_t0557093_e0609574_b00001_c20201013052242733000_ipop_dev.h5\"://All_Data/VIIRS-I3-SDR_All/Reflectance \n",
      "2020-10-20 16:35:12.137 | DEBUG    | gdal_viirs:gdal_open:374 - mode=0/GA_ReadOnly file=/home/marat/Documents/npp/SVI02_npp_d20201013_t0557093_e0609574_b00001_c20201013052242733000_ipop_dev.h5 \n",
      "2020-10-20 16:35:12.140 | DEBUG    | gdal_viirs:gdal_open:374 - mode=0/GA_ReadOnly file=HDF5:\"/home/marat/Documents/npp/SVI02_npp_d20201013_t0557093_e0609574_b00001_c20201013052242733000_ipop_dev.h5\"://All_Data/VIIRS-I2-SDR_All/Reflectance \n",
      "2020-10-20 16:35:14.618 | DEBUG    | gdal_viirs:gdal_open:374 - mode=0/GA_ReadOnly file=/home/marat/Documents/npp/SVI04_npp_d20201013_t0557093_e0609574_b00001_c20201013052242733000_ipop_dev.h5 \n",
      "2020-10-20 16:35:14.619 | WARNING  | gdal_viirs:hlf_process_band_file:446 - На данный момент поддерживаются только типы файлов: SVI01, SVI02, SVI03 файл с типом SVI04 проигнорирован\n",
      "2020-10-20 16:35:14.632 | DEBUG    | gdal_viirs:gdal_open:374 - mode=0/GA_ReadOnly file=/home/marat/Documents/npp/SVI05_npp_d20201013_t0557093_e0609574_b00001_c20201013052242733000_ipop_dev.h5 \n",
      "2020-10-20 16:35:14.633 | WARNING  | gdal_viirs:hlf_process_band_file:446 - На данный момент поддерживаются только типы файлов: SVI01, SVI02, SVI03 файл с типом SVI05 проигнорирован\n"
     ]
    }
   ],
   "source": [
    "gdal.UseExceptions()\n",
    "files = viirs.find_viirs_filesets('/home/marat/Documents/npp', [viirs.GIMGO])\n",
    "geoloc, band_files = list(files.values())[0]\n",
    "data = viirs.hlf_process_fileset(geoloc, band_files)"
   ]
  },
  {
   "cell_type": "code",
   "execution_count": 3,
   "metadata": {},
   "outputs": [],
   "source": [
    "geoloc, bands = data"
   ]
  },
  {
   "cell_type": "code",
   "execution_count": 4,
   "metadata": {},
   "outputs": [],
   "source": [
    "#fr = viirs.fill_nodata(bands[0][0])\n",
    "#fr[fr < 65528]"
   ]
  },
  {
   "cell_type": "code",
   "execution_count": 5,
   "metadata": {},
   "outputs": [],
   "source": [
    "arrays = [b[0] for b in bands if b[0] is not None]"
   ]
  },
  {
   "cell_type": "code",
   "execution_count": 12,
   "metadata": {},
   "outputs": [],
   "source": [
    "viirs.save_as_tiff('/tmp/test.tiff', arrays)"
   ]
  }
 ],
 "metadata": {
  "kernelspec": {
   "display_name": "Python 3",
   "language": "python",
   "name": "python3"
  },
  "language_info": {
   "codemirror_mode": {
    "name": "ipython",
    "version": 3
   },
   "file_extension": ".py",
   "mimetype": "text/x-python",
   "name": "python",
   "nbconvert_exporter": "python",
   "pygments_lexer": "ipython3",
   "version": "3.8.5"
  }
 },
 "nbformat": 4,
 "nbformat_minor": 4
}
